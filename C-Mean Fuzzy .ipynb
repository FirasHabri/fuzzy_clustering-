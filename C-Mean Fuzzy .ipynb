{
 "cells": [
  {
   "cell_type": "code",
   "execution_count": 1,
   "metadata": {},
   "outputs": [],
   "source": [
    "%matplotlib inline\n",
    "import matplotlib.pyplot as plt\n",
    "import seaborn as sns\n",
    "import pandas as pd\n",
    "import numpy as np\n",
    "from sklearn.datasets import load_iris\n",
    "from sklearn.datasets import load_wine\n",
    "from scipy.spatial import distance\n",
    "from sklearn.decomposition import PCA\n",
    "import random\n",
    "import warnings\n",
    "warnings.filterwarnings('ignore')"
   ]
  },
  {
   "cell_type": "code",
   "execution_count": 2,
   "metadata": {},
   "outputs": [],
   "source": [
    "iris = load_iris()\n",
    "wine = load_wine()"
   ]
  },
  {
   "cell_type": "code",
   "execution_count": 3,
   "metadata": {},
   "outputs": [
    {
     "data": {
      "text/html": [
       "<div>\n",
       "<style scoped>\n",
       "    .dataframe tbody tr th:only-of-type {\n",
       "        vertical-align: middle;\n",
       "    }\n",
       "\n",
       "    .dataframe tbody tr th {\n",
       "        vertical-align: top;\n",
       "    }\n",
       "\n",
       "    .dataframe thead th {\n",
       "        text-align: right;\n",
       "    }\n",
       "</style>\n",
       "<table border=\"1\" class=\"dataframe\">\n",
       "  <thead>\n",
       "    <tr style=\"text-align: right;\">\n",
       "      <th></th>\n",
       "      <th>sepal length (cm)</th>\n",
       "      <th>sepal width (cm)</th>\n",
       "      <th>petal length (cm)</th>\n",
       "      <th>petal width (cm)</th>\n",
       "      <th>target</th>\n",
       "      <th>class</th>\n",
       "    </tr>\n",
       "  </thead>\n",
       "  <tbody>\n",
       "    <tr>\n",
       "      <th>0</th>\n",
       "      <td>5.1</td>\n",
       "      <td>3.5</td>\n",
       "      <td>1.4</td>\n",
       "      <td>0.2</td>\n",
       "      <td>0</td>\n",
       "      <td>setosa</td>\n",
       "    </tr>\n",
       "    <tr>\n",
       "      <th>1</th>\n",
       "      <td>4.9</td>\n",
       "      <td>3.0</td>\n",
       "      <td>1.4</td>\n",
       "      <td>0.2</td>\n",
       "      <td>0</td>\n",
       "      <td>setosa</td>\n",
       "    </tr>\n",
       "    <tr>\n",
       "      <th>2</th>\n",
       "      <td>4.7</td>\n",
       "      <td>3.2</td>\n",
       "      <td>1.3</td>\n",
       "      <td>0.2</td>\n",
       "      <td>0</td>\n",
       "      <td>setosa</td>\n",
       "    </tr>\n",
       "    <tr>\n",
       "      <th>3</th>\n",
       "      <td>4.6</td>\n",
       "      <td>3.1</td>\n",
       "      <td>1.5</td>\n",
       "      <td>0.2</td>\n",
       "      <td>0</td>\n",
       "      <td>setosa</td>\n",
       "    </tr>\n",
       "    <tr>\n",
       "      <th>4</th>\n",
       "      <td>5.0</td>\n",
       "      <td>3.6</td>\n",
       "      <td>1.4</td>\n",
       "      <td>0.2</td>\n",
       "      <td>0</td>\n",
       "      <td>setosa</td>\n",
       "    </tr>\n",
       "  </tbody>\n",
       "</table>\n",
       "</div>"
      ],
      "text/plain": [
       "   sepal length (cm)  sepal width (cm)  petal length (cm)  petal width (cm)  \\\n",
       "0                5.1               3.5                1.4               0.2   \n",
       "1                4.9               3.0                1.4               0.2   \n",
       "2                4.7               3.2                1.3               0.2   \n",
       "3                4.6               3.1                1.5               0.2   \n",
       "4                5.0               3.6                1.4               0.2   \n",
       "\n",
       "   target   class  \n",
       "0       0  setosa  \n",
       "1       0  setosa  \n",
       "2       0  setosa  \n",
       "3       0  setosa  \n",
       "4       0  setosa  "
      ]
     },
     "execution_count": 3,
     "metadata": {},
     "output_type": "execute_result"
    }
   ],
   "source": [
    "features = pd.DataFrame(data=iris['data'],columns=iris['feature_names'])\n",
    "dataI = features\n",
    "dataI['target']=iris['target']\n",
    "dataI['class']=dataI['target'].map(lambda ind: iris['target_names'][ind])\n",
    "dataI.head()"
   ]
  },
  {
   "cell_type": "code",
   "execution_count": 4,
   "metadata": {},
   "outputs": [
    {
     "data": {
      "text/html": [
       "<div>\n",
       "<style scoped>\n",
       "    .dataframe tbody tr th:only-of-type {\n",
       "        vertical-align: middle;\n",
       "    }\n",
       "\n",
       "    .dataframe tbody tr th {\n",
       "        vertical-align: top;\n",
       "    }\n",
       "\n",
       "    .dataframe thead th {\n",
       "        text-align: right;\n",
       "    }\n",
       "</style>\n",
       "<table border=\"1\" class=\"dataframe\">\n",
       "  <thead>\n",
       "    <tr style=\"text-align: right;\">\n",
       "      <th></th>\n",
       "      <th>alcohol</th>\n",
       "      <th>malic_acid</th>\n",
       "      <th>ash</th>\n",
       "      <th>alcalinity_of_ash</th>\n",
       "      <th>magnesium</th>\n",
       "      <th>total_phenols</th>\n",
       "      <th>flavanoids</th>\n",
       "      <th>nonflavanoid_phenols</th>\n",
       "      <th>proanthocyanins</th>\n",
       "      <th>color_intensity</th>\n",
       "      <th>hue</th>\n",
       "      <th>od280/od315_of_diluted_wines</th>\n",
       "      <th>proline</th>\n",
       "      <th>target</th>\n",
       "      <th>class</th>\n",
       "    </tr>\n",
       "  </thead>\n",
       "  <tbody>\n",
       "    <tr>\n",
       "      <th>0</th>\n",
       "      <td>14.23</td>\n",
       "      <td>1.71</td>\n",
       "      <td>2.43</td>\n",
       "      <td>15.6</td>\n",
       "      <td>127.0</td>\n",
       "      <td>2.80</td>\n",
       "      <td>3.06</td>\n",
       "      <td>0.28</td>\n",
       "      <td>2.29</td>\n",
       "      <td>5.64</td>\n",
       "      <td>1.04</td>\n",
       "      <td>3.92</td>\n",
       "      <td>1065.0</td>\n",
       "      <td>0</td>\n",
       "      <td>class_0</td>\n",
       "    </tr>\n",
       "    <tr>\n",
       "      <th>1</th>\n",
       "      <td>13.20</td>\n",
       "      <td>1.78</td>\n",
       "      <td>2.14</td>\n",
       "      <td>11.2</td>\n",
       "      <td>100.0</td>\n",
       "      <td>2.65</td>\n",
       "      <td>2.76</td>\n",
       "      <td>0.26</td>\n",
       "      <td>1.28</td>\n",
       "      <td>4.38</td>\n",
       "      <td>1.05</td>\n",
       "      <td>3.40</td>\n",
       "      <td>1050.0</td>\n",
       "      <td>0</td>\n",
       "      <td>class_0</td>\n",
       "    </tr>\n",
       "    <tr>\n",
       "      <th>2</th>\n",
       "      <td>13.16</td>\n",
       "      <td>2.36</td>\n",
       "      <td>2.67</td>\n",
       "      <td>18.6</td>\n",
       "      <td>101.0</td>\n",
       "      <td>2.80</td>\n",
       "      <td>3.24</td>\n",
       "      <td>0.30</td>\n",
       "      <td>2.81</td>\n",
       "      <td>5.68</td>\n",
       "      <td>1.03</td>\n",
       "      <td>3.17</td>\n",
       "      <td>1185.0</td>\n",
       "      <td>0</td>\n",
       "      <td>class_0</td>\n",
       "    </tr>\n",
       "    <tr>\n",
       "      <th>3</th>\n",
       "      <td>14.37</td>\n",
       "      <td>1.95</td>\n",
       "      <td>2.50</td>\n",
       "      <td>16.8</td>\n",
       "      <td>113.0</td>\n",
       "      <td>3.85</td>\n",
       "      <td>3.49</td>\n",
       "      <td>0.24</td>\n",
       "      <td>2.18</td>\n",
       "      <td>7.80</td>\n",
       "      <td>0.86</td>\n",
       "      <td>3.45</td>\n",
       "      <td>1480.0</td>\n",
       "      <td>0</td>\n",
       "      <td>class_0</td>\n",
       "    </tr>\n",
       "    <tr>\n",
       "      <th>4</th>\n",
       "      <td>13.24</td>\n",
       "      <td>2.59</td>\n",
       "      <td>2.87</td>\n",
       "      <td>21.0</td>\n",
       "      <td>118.0</td>\n",
       "      <td>2.80</td>\n",
       "      <td>2.69</td>\n",
       "      <td>0.39</td>\n",
       "      <td>1.82</td>\n",
       "      <td>4.32</td>\n",
       "      <td>1.04</td>\n",
       "      <td>2.93</td>\n",
       "      <td>735.0</td>\n",
       "      <td>0</td>\n",
       "      <td>class_0</td>\n",
       "    </tr>\n",
       "  </tbody>\n",
       "</table>\n",
       "</div>"
      ],
      "text/plain": [
       "   alcohol  malic_acid   ash  alcalinity_of_ash  magnesium  total_phenols  \\\n",
       "0    14.23        1.71  2.43               15.6      127.0           2.80   \n",
       "1    13.20        1.78  2.14               11.2      100.0           2.65   \n",
       "2    13.16        2.36  2.67               18.6      101.0           2.80   \n",
       "3    14.37        1.95  2.50               16.8      113.0           3.85   \n",
       "4    13.24        2.59  2.87               21.0      118.0           2.80   \n",
       "\n",
       "   flavanoids  nonflavanoid_phenols  proanthocyanins  color_intensity   hue  \\\n",
       "0        3.06                  0.28             2.29             5.64  1.04   \n",
       "1        2.76                  0.26             1.28             4.38  1.05   \n",
       "2        3.24                  0.30             2.81             5.68  1.03   \n",
       "3        3.49                  0.24             2.18             7.80  0.86   \n",
       "4        2.69                  0.39             1.82             4.32  1.04   \n",
       "\n",
       "   od280/od315_of_diluted_wines  proline  target    class  \n",
       "0                          3.92   1065.0       0  class_0  \n",
       "1                          3.40   1050.0       0  class_0  \n",
       "2                          3.17   1185.0       0  class_0  \n",
       "3                          3.45   1480.0       0  class_0  \n",
       "4                          2.93    735.0       0  class_0  "
      ]
     },
     "execution_count": 4,
     "metadata": {},
     "output_type": "execute_result"
    }
   ],
   "source": [
    "features = pd.DataFrame(data=wine['data'],columns=wine['feature_names'])\n",
    "data = features\n",
    "data['target']=wine['target']\n",
    "data['class']=data['target'].map(lambda ind: wine['target_names'][ind])\n",
    "data.head()"
   ]
  },
  {
   "cell_type": "code",
   "execution_count": 5,
   "metadata": {},
   "outputs": [
    {
     "data": {
      "text/plain": [
       "Text(0, 0.5, 'malic_acid')"
      ]
     },
     "execution_count": 5,
     "metadata": {},
     "output_type": "execute_result"
    },
    {
     "data": {
      "image/png": "[encoded data removed]",
      "text/plain": [
       "<Figure size 432x288 with 1 Axes>"
      ]
     },
     "metadata": {
      "needs_background": "light"
     },
     "output_type": "display_data"
    }
   ],
   "source": [
    "# create color dictionary\n",
    "colors = {'class_0':'r', 'class_1':'g', 'class_2':'b'}\n",
    "# create a figure and axis\n",
    "fig, ax = plt.subplots()\n",
    "# plot each data-point\n",
    "for i in range(len(data['alcohol'])):\n",
    "    ax.scatter(data['alcohol'][i], data['malic_acid'][i],color=colors[data['class'][i]])\n",
    "# set a title and labels\n",
    "ax.set_title('Wine Dataset')\n",
    "ax.set_xlabel('alcohol')\n",
    "ax.set_ylabel('malic_acid')"
   ]
  },
  {
   "cell_type": "code",
   "execution_count": 6,
   "metadata": {},
   "outputs": [
    {
     "data": {
      "text/plain": [
       "Text(0, 0.5, 'sepal_width')"
      ]
     },
     "execution_count": 6,
     "metadata": {},
     "output_type": "execute_result"
    },
    {
     "data": {
      "image/png": "[encoded data removed]",
      "text/plain": [
       "<Figure size 432x288 with 1 Axes>"
      ]
     },
     "metadata": {
      "needs_background": "light"
     },
     "output_type": "display_data"
    }
   ],
   "source": [
    "# create color dictionary\n",
    "colors = {'setosa':'r', 'versicolor':'g', 'virginica':'b'}\n",
    "# create a figure and axis\n",
    "fig, ax = plt.subplots()\n",
    "# plot each data-point\n",
    "for i in range(len(dataI['sepal length (cm)'])):\n",
    "    ax.scatter(dataI['sepal length (cm)'][i], dataI['sepal width (cm)'][i],color=colors[dataI['class'][i]])\n",
    "# set a title and labels\n",
    "ax.set_title('Iris Dataset')\n",
    "ax.set_xlabel('sepal_length')\n",
    "ax.set_ylabel('sepal_width')"
   ]
  },
  {
   "cell_type": "code",
   "execution_count": 20,
   "metadata": {},
   "outputs": [],
   "source": [
    "def plot(x, v, u, c):\n",
    "\n",
    "    fig = plt.figure()\n",
    "    u = np.argmax(u, axis=0)\n",
    "    x = x.T\n",
    "\n",
    "    for j in range(c):\n",
    "        plt.scatter(x[0][u == j], x[1][u == j], alpha=0.8)\n",
    "        plt.scatter(v[j][0], v[j][1], s=500 , marker=\"*\")\n",
    "        \n",
    "    plt.show()"
   ]
  },
  {
   "cell_type": "code",
   "execution_count": 8,
   "metadata": {},
   "outputs": [],
   "source": [
    "class Fuzzy_C_Means:\n",
    "    def __init__(self, data, clusters, fuzzifier, error_tolerance, iterations):\n",
    "        self.z = data\n",
    "        self.c = clusters\n",
    "        self.m = fuzzifier\n",
    "        self.e = error_tolerance\n",
    "        self.l = iterations\n",
    "        \n",
    "    def compute_distance(self,x,V):\n",
    "        return distance.cdist(x.T, V, 'euclidean').T\n",
    "    \n",
    "    def update_partition_matrix(self,dist,m):\n",
    "        exp_dist = dist ** (2.0/m-1)\n",
    "        return exp_dist / np.sum(exp_dist, axis=0, keepdims=1) \n",
    "    \n",
    "    def compute_clusters(self,x,U,m):\n",
    "        exp_U = np.power(U,m) \n",
    "        p1 = exp_U.dot(x.T)\n",
    "        p2 = np.sum(exp_U,  axis=1)\n",
    "        p2 = np.reshape(p2, (-1, self.c))\n",
    "        return np.divide(p1,p2.T)\n",
    "    \n",
    "    def cmeans(self):\n",
    "        Datapoints,Features = self.z.shape\n",
    "\n",
    "        x = self.z.T\n",
    "\n",
    "        V = np.empty((self.l, self.c, Features))\n",
    "        V[0] = np.array(x[:,np.random.choice(x.shape[1], size = self.c)].T)\n",
    "        U = np.zeros((self.l, self.c, Datapoints))    \n",
    "\n",
    "        i = 0\n",
    "        while True:\n",
    "            distance = self.compute_distance(x,V[i])\n",
    "            U[i] = self.update_partition_matrix(distance,self.m)\n",
    "            V[i+1] = self.compute_clusters(x,U[i],self.m)\n",
    "            \n",
    "            if np.linalg.norm(U[i - 1] - U[i]) < self.e:\n",
    "                break\n",
    "\n",
    "            i += 1\n",
    "\n",
    "        return V[i],U[i]"
   ]
  },
  {
   "cell_type": "code",
   "execution_count": 9,
   "metadata": {},
   "outputs": [
    {
     "data": {
      "image/png": "[encoded data removed]",
      "text/plain": [
       "<Figure size 432x288 with 1 Axes>"
      ]
     },
     "metadata": {
      "needs_background": "light"
     },
     "output_type": "display_data"
    }
   ],
   "source": [
    "fcm = Fuzzy_C_Means(iris.data, len(iris.target_names) , 1.5 , 0.0001 , 100)\n",
    "v, u =fcm.cmeans()\n",
    "\n",
    "plot(iris.data, v, u, len(iris.target_names))"
   ]
  },
  {
   "cell_type": "code",
   "execution_count": 10,
   "metadata": {},
   "outputs": [
    {
     "data": {
      "image/png": "[encoded data removed]",
      "text/plain": [
       "<Figure size 432x288 with 1 Axes>"
      ]
     },
     "metadata": {
      "needs_background": "light"
     },
     "output_type": "display_data"
    }
   ],
   "source": [
    "fcm = Fuzzy_C_Means(wine.data, len(wine.target_names), 1.5, 1 , 200)\n",
    "\n",
    "v, u = fcm.cmeans()\n",
    "\n",
    "plot(wine.data, v, u, len(wine.target_names))"
   ]
  },
  {
   "cell_type": "code",
   "execution_count": null,
   "metadata": {},
   "outputs": [],
   "source": []
  },
  {
   "cell_type": "code",
   "execution_count": 11,
   "metadata": {},
   "outputs": [],
   "source": [
    "class GustafsonKessel_C_Means:\n",
    "    def __init__(self, data, clusters, fuzzifier, error_tolerance, iterations):\n",
    "        self.z = data\n",
    "        self.c = clusters\n",
    "        self.m = fuzzifier\n",
    "        self.e = error_tolerance\n",
    "        self.l = iterations\n",
    "        \n",
    "    def compute_distance(self, x, V, F, n, m):\n",
    "        F = F+0.00001*np.random.rand(n, n)\n",
    "        zk_V = np.expand_dims(x.reshape(x.shape[0],1,-1) - V.reshape(-1,V.shape[0],1), axis=3)\n",
    "        det = np.power(np.linalg.det(F)+0.00001, 1 / n)\n",
    "        inv = np.linalg.inv(F)\n",
    "        detinv = det.reshape(-1, 1, 1) * inv\n",
    "        temp = np.matmul(zk_V.transpose((0, 1, 3, 2)), detinv)\n",
    "        zk_V = np.squeeze(zk_V)\n",
    "        temp = np.squeeze(temp)\n",
    "        zk_V = np.einsum('ijk->jik', zk_V)\n",
    "        temp = np.einsum('ijk->jki', temp)\n",
    "        output = np.matmul(temp, zk_V).squeeze().T\n",
    "        output = output[0, :, :]\n",
    "        return np.fmax(output, 0.00001).T\n",
    "    \n",
    "    def update_partition_matrix(self, dist, m):\n",
    "        exp_dist = dist ** (2.0/m-1)\n",
    "        return exp_dist / np.sum(exp_dist)\n",
    "    \n",
    "    def compute_clusters(self, x, U, m):\n",
    "        exp_U = np.power(U,m) \n",
    "        p1 = exp_U.dot(x.T)\n",
    "        p2 = np.sum(exp_U,  axis=1)\n",
    "        p2 = np.reshape(p2, (-1, 3))\n",
    "        return np.divide(p1,p2.T)\n",
    "    \n",
    "    def compute_cluter_covariance_matrix(self, U, x, V, m, n):\n",
    "        exp_U = np.power(U,m) \n",
    "        mx1 = np.ones((3,n))\n",
    "        xV = x - (V.T.dot(mx1))\n",
    "        xV = xV[0].T\n",
    "        xV2 = np.multiply(xV, xV[:, np.newaxis])\n",
    "        P1 = (np.sum(exp_U) * xV2)\n",
    "        P2 = np.sum(exp_U)\n",
    "        return np.divide(P1,P2)\n",
    "    \n",
    "    def cmeans(self):\n",
    "        Datapoints,Features = self.z.shape\n",
    "\n",
    "        x = self.z.T\n",
    "\n",
    "        V = np.empty((self.l, self.c, Features))\n",
    "        V[0] = np.array(x[:,np.random.choice(x.shape[1], size = self.c)].T)\n",
    "        \n",
    "        U = np.zeros((self.l, self.c, Datapoints))\n",
    "        U[0] = np.array(x[np.random.choice(x.shape[0], size = self.c),:])\n",
    "        \n",
    "        F = np.zeros((self.l, self.c, Datapoints, Datapoints))\n",
    "\n",
    "        i = 0\n",
    "        distance = 0\n",
    "        while True:\n",
    "            \n",
    "            F[i] = self.compute_cluter_covariance_matrix(U[i], x, V[i], self.m, Datapoints)\n",
    "            \n",
    "            for j in range(self.c):\n",
    "                distance = self.compute_distance(x,V[i],F[i][j],Datapoints,Features)\n",
    "                \n",
    "            U[i] = self.update_partition_matrix(distance, self.m)            \n",
    "\n",
    "            V[i+1] = self.compute_clusters(x, U[i], self.m)\n",
    "            \n",
    "            if np.linalg.norm(U[i - 1] - U[i]) < self.e:\n",
    "                break\n",
    "                \n",
    "            i += 1\n",
    "\n",
    "        return V[i],U[i]"
   ]
  },
  {
   "cell_type": "code",
   "execution_count": 17,
   "metadata": {
    "scrolled": true
   },
   "outputs": [
    {
     "data": {
      "image/png": "[encoded data removed]",
      "text/plain": [
       "<Figure size 432x288 with 1 Axes>"
      ]
     },
     "metadata": {
      "needs_background": "light"
     },
     "output_type": "display_data"
    }
   ],
   "source": [
    "gcm = GustafsonKessel_C_Means(wine.data, len(wine.target_names), 1.2, 0.1 , 200)\n",
    "\n",
    "v, u = gcm.cmeans()\n",
    "\n",
    "plot(wine.data, v, u, len(wine.target_names))"
   ]
  },
  {
   "cell_type": "code",
   "execution_count": 21,
   "metadata": {},
   "outputs": [
    {
     "data": {
      "image/png": "[encoded data removed]",
      "text/plain": [
       "<Figure size 432x288 with 1 Axes>"
      ]
     },
     "metadata": {
      "needs_background": "light"
     },
     "output_type": "display_data"
    }
   ],
   "source": [
    "gcm = GustafsonKessel_C_Means(iris.data, len(iris.target_names) , 1.3 , 1 , 200)\n",
    "v, u =gcm.cmeans()\n",
    "\n",
    "\n",
    "plot(iris.data, v, u, len(iris.target_names))"
   ]
  },
  {
   "cell_type": "code",
   "execution_count": null,
   "metadata": {},
   "outputs": [],
   "source": []
  }
 ],
 "metadata": {
  "kernelspec": {
   "display_name": "Python 3",
   "language": "python",
   "name": "python3"
  },
  "language_info": {
   "codemirror_mode": {
    "name": "ipython",
    "version": 3
   },
   "file_extension": ".py",
   "mimetype": "text/x-python",
   "name": "python",
   "nbconvert_exporter": "python",
   "pygments_lexer": "ipython3",
   "version": "3.7.1"
  }
 },
 "nbformat": 4,
 "nbformat_minor": 2
}
